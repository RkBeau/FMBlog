{
  "nbformat": 4,
  "nbformat_minor": 0,
  "metadata": {
    "colab": {
      "provenance": [],
      "toc_visible": true,
      "authorship_tag": "ABX9TyOWBvGqcPNVOr/OB/aQkVom",
      "include_colab_link": true
    },
    "kernelspec": {
      "name": "python3",
      "display_name": "Python 3"
    },
    "language_info": {
      "name": "python"
    }
  },
  "cells": [
    {
      "cell_type": "markdown",
      "metadata": {
        "id": "view-in-github",
        "colab_type": "text"
      },
      "source": [
        "<a href=\"https://colab.research.google.com/github/RkBeau/FMBlog/blob/main/Untitled7.ipynb\" target=\"_parent\"><img src=\"https://colab.research.google.com/assets/colab-badge.svg\" alt=\"Open In Colab\"/></a>"
      ]
    },
    {
      "cell_type": "markdown",
      "source": [
        "# Defining Essential Python DataTypes\n"
      ],
      "metadata": {
        "id": "LDuvWRzSgnRp"
      }
    },
    {
      "cell_type": "markdown",
      "source": [
        "## Putting information into variables"
      ],
      "metadata": {
        "id": "PfddOa3zg7pT"
      }
    },
    {
      "cell_type": "code",
      "execution_count": null,
      "metadata": {
        "colab": {
          "base_uri": "https://localhost:8080/"
        },
        "id": "Hw8-BCS6gUzn",
        "outputId": "74d4c5e8-7e3c-4a6f-ff39-b9210c6a943f"
      },
      "outputs": [
        {
          "output_type": "stream",
          "name": "stdout",
          "text": [
            "5\n"
          ]
        }
      ],
      "source": [
        "# variables are assigned with value with the\"=\" assignment operator\n",
        "myVar = 5\n",
        "print(myVar)"
      ]
    },
    {
      "cell_type": "markdown",
      "source": [
        "# Understanding the Numeric Data Types"
      ],
      "metadata": {
        "id": "2gXKM9MaiRLf"
      }
    },
    {
      "cell_type": "markdown",
      "source": [
        "##Integers"
      ],
      "metadata": {
        "id": "vT1218eFiec0"
      }
    },
    {
      "cell_type": "markdown",
      "source": [],
      "metadata": {
        "id": "AhWHIQgLieaa"
      }
    },
    {
      "cell_type": "code",
      "source": [
        "Test = 0b100\n",
        "print(\"100 binary: \", Test)\n",
        "\n",
        "Test = 0o100\n",
        "print(\"100 octal: \", Test)\n",
        "\n",
        "Test = 0x100\n",
        "print(\"100 hexadecimal: \", Test)\n",
        "\n",
        "print(bin(Test))\n",
        "print(oct(Test))\n",
        "print(hex(Test))"
      ],
      "metadata": {
        "colab": {
          "base_uri": "https://localhost:8080/"
        },
        "id": "_VQ5hzv2ipAa",
        "outputId": "196d203c-c273-499b-ea1f-0a9160e61375"
      },
      "execution_count": null,
      "outputs": [
        {
          "output_type": "stream",
          "name": "stdout",
          "text": [
            "100 binary:  4\n",
            "100 octal:  64\n",
            "100 hexadecimal:  256\n",
            "0b100000000\n",
            "0o400\n",
            "0x100\n"
          ]
        }
      ]
    },
    {
      "cell_type": "markdown",
      "source": [
        "## Floating Point Types"
      ],
      "metadata": {
        "id": "sdNNoI4NuznF"
      }
    },
    {
      "cell_type": "code",
      "source": [
        "Test = 255.0\n",
        "print(\"Direct Assignment: \", Test)\n",
        "\n",
        "Test = float(255)\n",
        "print(\"Type Casting: \", Test)\n",
        "\n",
        "Test = 2.55e2\n",
        "print(\"Scientific Notation: \", Test)\n",
        "\n",
        "Test = 2.55e-2\n",
        "print(\"Negative Exponent:\", Test)"
      ],
      "metadata": {
        "colab": {
          "base_uri": "https://localhost:8080/"
        },
        "id": "aZPh-ry-4PcO",
        "outputId": "7067f4fd-ca84-439e-da53-0dc326c893cd"
      },
      "execution_count": null,
      "outputs": [
        {
          "output_type": "stream",
          "name": "stdout",
          "text": [
            "Direct Assignment:  255.0\n",
            "Type Casting:  255.0\n",
            "Scientific Notation:  255.0\n",
            "Negative Exponent: 0.0255\n"
          ]
        }
      ]
    },
    {
      "cell_type": "markdown",
      "source": [
        "## Complex numbers"
      ],
      "metadata": {
        "id": "o6vUZMkY5Hqe"
      }
    },
    {
      "cell_type": "code",
      "source": [
        "myComplex = 3 + 4j\n",
        "print(myComplex.real)\n",
        "print(myComplex.imag)\n",
        "print(myComplex.conjugate())"
      ],
      "metadata": {
        "colab": {
          "base_uri": "https://localhost:8080/"
        },
        "id": "Z0d1Faoq5YBi",
        "outputId": "b5916d5e-d256-49b7-d508-8f24359df4fe"
      },
      "execution_count": null,
      "outputs": [
        {
          "output_type": "stream",
          "name": "stdout",
          "text": [
            "3.0\n",
            "4.0\n",
            "(3-4j)\n"
          ]
        }
      ]
    },
    {
      "cell_type": "markdown",
      "source": [
        "# Understanding Boolean Values"
      ],
      "metadata": {
        "id": "CEPJ6Utg56iY"
      }
    },
    {
      "cell_type": "code",
      "source": [
        "# A Boolean can only contain one of two values\n",
        "# true or false, 0 or 1, open or closed.\n",
        "myBool = 1 > 2\n",
        "print(myBool) #or\n",
        "myBool = 2 > 1\n",
        "print(myBool)"
      ],
      "metadata": {
        "colab": {
          "base_uri": "https://localhost:8080/"
        },
        "id": "EHKcW-y66OWA",
        "outputId": "61936295-9397-47fa-ad89-99a9b021d039"
      },
      "execution_count": null,
      "outputs": [
        {
          "output_type": "stream",
          "name": "stdout",
          "text": [
            "False\n",
            "True\n"
          ]
        }
      ]
    },
    {
      "cell_type": "markdown",
      "source": [
        "#Understanding Strings\n",
        "\n",
        "\n",
        "---\n",
        "Strings are simply a series of characters contained within doublequotes.  They can be any character on the keyboard in any order.  Strings can be made of numeric characters.  Sometimes these have to be converted to their numeric data types like so:\n"
      ],
      "metadata": {
        "id": "N-q9wuJ_7SUN"
      }
    },
    {
      "cell_type": "code",
      "source": [
        "# To better understand the concept of strings consider that each character is\n",
        "# represented in the machine by an ascii code. We can see this value by using\n",
        "# the ord() function.\n",
        "print(ord('A'))\n",
        "print(ord('a'))\n",
        "print(ord('0'))\n",
        "# note that the 'A' and 'a' characters value is 32 places difference.  this\n",
        "# is because ascii lists all lowercase then all uppercase letters.\n",
        "'''\n",
        "    sometimes it is neccesary to convert a string to a number\n",
        "    we do so with the int() function and the float() function\n",
        "'''\n",
        "myInt = int('123')\n",
        "print(myInt)\n",
        "myFloat = float('123.45')\n",
        "print(type(myFloat))\n",
        "print(type(myInt))\n",
        "'''\n",
        "    we can also convert a number to a string with the str() function\n",
        "'''\n",
        "myString = str(123)\n",
        "print(type(myString))"
      ],
      "metadata": {
        "colab": {
          "base_uri": "https://localhost:8080/"
        },
        "id": "Um8HMrmR7Wsg",
        "outputId": "79a9c310-e762-4364-afb7-8833b3d6d63e"
      },
      "execution_count": null,
      "outputs": [
        {
          "output_type": "stream",
          "name": "stdout",
          "text": [
            "65\n",
            "97\n",
            "48\n",
            "123\n",
            "<class 'float'>\n",
            "<class 'int'>\n",
            "<class 'str'>\n"
          ]
        }
      ]
    },
    {
      "cell_type": "markdown",
      "source": [
        "# Managing Information"
      ],
      "metadata": {
        "id": "_eTIuc_T_DAB"
      }
    },
    {
      "cell_type": "markdown",
      "source": [
        "#Creating and Using Functions\n"
      ],
      "metadata": {
        "id": "rGfrFBXBJzrs"
      }
    },
    {
      "cell_type": "markdown",
      "source": [
        "## Defining a function"
      ],
      "metadata": {
        "id": "kkK0DIrdJ-Gn"
      }
    },
    {
      "cell_type": "code",
      "source": [
        "# @title\n",
        "'''\n",
        "    To define a function we use the keyword \"def\" followed\n",
        "    by the function name and parenthesis ending with a colon\n",
        "'''\n",
        "def myFunction():\n",
        "    print(\"Hello World\")\n",
        "\n",
        "# Make sure to run this cell first to define the function %% [markdown] ##\n",
        "# Accessing functions a function is accessed by calling or invoking it. This is\n",
        "# done simply by entering the function name. %%"
      ],
      "metadata": {
        "id": "szjG9HeSewBK"
      },
      "execution_count": null,
      "outputs": []
    },
    {
      "cell_type": "markdown",
      "source": [
        "## Accessing functions\n",
        "\n",
        "a function is accessed by calling or invoking it.  This is done simply by entering the function name."
      ],
      "metadata": {
        "id": "UKk1FUd-LpW5"
      }
    },
    {
      "cell_type": "code",
      "source": [
        "myFunction()  # Now you can call the function"
      ],
      "metadata": {
        "colab": {
          "base_uri": "https://localhost:8080/"
        },
        "id": "_sWHN3bGMESP",
        "outputId": "0c93aee2-f238-4df0-9d89-26ec3c84bd2f"
      },
      "execution_count": null,
      "outputs": [
        {
          "output_type": "stream",
          "name": "stdout",
          "text": [
            "Hello World\n"
          ]
        }
      ]
    },
    {
      "cell_type": "markdown",
      "source": [
        "# Understanding arguements\n",
        "\n",
        "    Arguments are data you supply the function with.  these may be litorals or variable names.  "
      ],
      "metadata": {
        "id": "6x4xc4ZiMoY-"
      }
    },
    {
      "cell_type": "code",
      "source": [
        "def AddIt(value1, value2):\n",
        "    print(value1, \" + \", value2, \" = \", (value1 + value2))\n",
        "3\n",
        "AddIt(1, 2)"
      ],
      "metadata": {
        "colab": {
          "base_uri": "https://localhost:8080/"
        },
        "id": "qyhan9KvNBQA",
        "outputId": "13546432-2f06-464d-f793-5fb6484f2e6d"
      },
      "execution_count": null,
      "outputs": [
        {
          "output_type": "stream",
          "name": "stdout",
          "text": [
            "1  +  2  =  3\n"
          ]
        }
      ]
    },
    {
      "cell_type": "markdown",
      "source": [
        "### default values\n",
        "    to create a default value simply follow the arguement name with an assignment operator and the value."
      ],
      "metadata": {
        "id": "WhWajYX2Nw0d"
      }
    },
    {
      "cell_type": "code",
      "source": [
        "def Hello(Greeting = \"No Value Supplied\"):\n",
        "    print(Greeting)\n",
        "\n",
        "Hello()\n",
        "Hello(\"hello world\")"
      ],
      "metadata": {
        "colab": {
          "base_uri": "https://localhost:8080/"
        },
        "id": "gWB6qVhhOHVu",
        "outputId": "2fd23e0e-258a-4811-8d69-36045e156e92"
      },
      "execution_count": null,
      "outputs": [
        {
          "output_type": "stream",
          "name": "stdout",
          "text": [
            "No Value Supplied\n",
            "hello world\n"
          ]
        }
      ]
    },
    {
      "cell_type": "markdown",
      "source": [],
      "metadata": {
        "id": "CQmYXKBnh1Q6"
      }
    },
    {
      "cell_type": "markdown",
      "source": [],
      "metadata": {
        "id": "p2CEyAHkPJ-6"
      }
    }
  ]
}